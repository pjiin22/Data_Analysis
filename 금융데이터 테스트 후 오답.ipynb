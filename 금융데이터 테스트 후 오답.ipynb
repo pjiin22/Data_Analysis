{
 "cells": [
  {
   "cell_type": "markdown",
   "id": "9a0610d7-e4d1-40ee-b4f1-f3bafcc88e09",
   "metadata": {},
   "source": [
    "### 1. 일단 데이터셋이 있어야 함\n",
    "1) csv파일 or excel파일 \n",
    "2) 폴더 안 파일\n",
    "\n",
    "### 2. 쓸 수 있는 데이터셋으로 뜯어고치기\n",
    "- 필요한만큼 변수 정의 꼭!\n",
    "- 필요에 따라 데이터 정렬\n",
    "- for, if, try, def로 필요한 컬럼 정리 및 도출!!!!"
   ]
  },
  {
   "cell_type": "markdown",
   "id": "8145b62d-07f3-4d36-9233-e9570a4af95c",
   "metadata": {},
   "source": [
    "## 참고"
   ]
  },
  {
   "cell_type": "markdown",
   "id": "c6e5fec8-2415-440f-99ea-8a1f51250021",
   "metadata": {},
   "source": [
    "df['컬럼명']-> 시리즈\\\n",
    "df['컬럼명'][행,열] 순서임"
   ]
  },
  {
   "cell_type": "markdown",
   "id": "597b7d54-373b-47c5-a877-e3e1f423f606",
   "metadata": {},
   "source": [
    "if문의 조건으로 컬럼끼리 비교 => 불가\\\n",
    "이렇게 다 따로 비교해서 all로 적용\\\n",
    "condition\\\n",
    "= (df['MA120'] < df['MA60']) & (df['MA60'] < df['MA20']) & (df['MA20'] < df['MA5']) & (df['MA5'] < df['Close'])\\\n",
    "if condition.all():"
   ]
  },
  {
   "cell_type": "markdown",
   "id": "73720352-7ba0-4912-bc12-c56a9a92b4b0",
   "metadata": {},
   "source": [
    "if문의 조건으로 함수 적용 => 불가\\\n",
    "함수 적용 후 진행\\\n",
    "df['RSI'] = df.apply(calculate_rsi, axis=1)  # axis=1로 행 단위 적용 -> 각 행에 대해 값을 구해 하나의 열을 형성\\\n",
    "if (df['RSI'] >= 70).any():\\\n",
    "    count += 1"
   ]
  },
  {
   "attachments": {
    "d1b3ede5-fe81-43a0-a956-445150ad009b.png": {
     "image/png": "[encoded data removed]"
    }
   },
   "cell_type": "markdown",
   "id": "7884a967-0a74-46aa-9cfd-29bf964c3235",
   "metadata": {},
   "source": [
    "이전행과 비교(수동)\\\n",
    "df['이전 값'] = df['기준 컬럼'].shift(1)  # 이전 행 값 생성\\\n",
    "두 행을 비교하면 됨\n",
    "\n",
    "![image.png](attachment:d1b3ede5-fe81-43a0-a956-445150ad009b.png)"
   ]
  },
  {
   "cell_type": "markdown",
   "id": "5612bc40-ccc3-4972-9af8-deec49563df8",
   "metadata": {},
   "source": [
    "## 문제"
   ]
  },
  {
   "cell_type": "markdown",
   "id": "e3e0b75c-c965-4c6e-8e03-8a183109d823",
   "metadata": {
    "jp-MarkdownHeadingCollapsed": true
   },
   "source": [
    "#### 여러 기업이 있을 떄, 연속 하락장이 제일 오래 유지된 기업의 이름과 하락 일수"
   ]
  },
  {
   "cell_type": "markdown",
   "id": "b9122bb9-d7fb-4bff-91cd-2109355c194a",
   "metadata": {},
   "source": [
    "all_data #기업들 합쳐져있음\\\n",
    "all_data['변동값'] = all_data.groupby('Company')['종가'].diff() #diff는 전 행과의 차이\n",
    "\n",
    "#변수선언\\\n",
    "company_name = None\\\n",
    "des_days = 0\n",
    "\n",
    "for company, group in all_data.groupby('Company'): #groupby컬럼명이 매개변수로 있음 -> 컬럼의 값 가져옴\\\n",
    "    decline_streak = 0 #하락일수 계산용 변수\n",
    "\n",
    "    for change in group['변동값']: #변동값 컬럼의 값을 매개변수로\n",
    "        if change < 0:\n",
    "            decline_streak += 1  # 주가가 하락하면 하락 일수를 증가\n",
    "            \n",
    "        else:\n",
    "            if decline_streak > des_days: #추가하다가 이전 값보다 커지면\n",
    "            \n",
    "                des_days = decline_streak #재정의!\n",
    "                company_name = company #재정의!\n",
    "                \n",
    "            decline_streak = 0  # 변동이 없으면 다음 계산을 위해 초기화\n",
    "\n",
    "    # 마지막 확인하고 마무리\n",
    "    if decline_streak > des_days:\n",
    "        des_days = decline_streak\n",
    "        company_name = company"
   ]
  },
  {
   "cell_type": "markdown",
   "id": "1abde117-293c-48ba-80be-02fa44806f02",
   "metadata": {
    "jp-MarkdownHeadingCollapsed": true
   },
   "source": [
    "#### "
   ]
  },
  {
   "cell_type": "code",
   "execution_count": null,
   "id": "b3b8962c-7b3e-4934-bd7d-9bc546ab512a",
   "metadata": {},
   "outputs": [],
   "source": []
  }
 ],
 "metadata": {
  "kernelspec": {
   "display_name": "Python 3 (ipykernel)",
   "language": "python",
   "name": "python3"
  },
  "language_info": {
   "codemirror_mode": {
    "name": "ipython",
    "version": 3
   },
   "file_extension": ".py",
   "mimetype": "text/x-python",
   "name": "python",
   "nbconvert_exporter": "python",
   "pygments_lexer": "ipython3",
   "version": "3.11.7"
  }
 },
 "nbformat": 4,
 "nbformat_minor": 5
}
