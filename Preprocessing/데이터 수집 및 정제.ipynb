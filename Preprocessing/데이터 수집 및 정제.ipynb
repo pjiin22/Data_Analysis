{
 "cells": [
  {
   "cell_type": "markdown",
   "id": "574161d8-edd9-4573-a54c-f0ff7b81d2a0",
   "metadata": {},
   "source": [
    "**선택 >> 결합 >> 변환 >> 정제**"
   ]
  },
  {
   "cell_type": "markdown",
   "id": "8855d076-879e-42c2-979d-fbf5da02ff73",
   "metadata": {},
   "source": [
    "# 데이터 수집"
   ]
  },
  {
   "cell_type": "markdown",
   "id": "8659ba70-a15c-4c83-a5cf-3956ff988bb5",
   "metadata": {},
   "source": [
    ": 분석에 필요한 **데이터 종류,형태, 발생주기, 수집 기간 및 방법 등** 데이터의 특성을 명확히 파악하고 정의하는 것\n",
    "\n",
    "> 데이터의 일관성 및 신뢰성\\\n",
    ": 모든 사람들에게 동일한 의미를 제공하는 일관성과 신뢰성이 있는 데이터 확보가 중요\n",
    "\n",
    "> 데이터의 종류와 특징\\\n",
    ": 데이터의 항목, 속성, 발생 주기, 수집 방법 및 기간 등의 특징/속성 기술"
   ]
  },
  {
   "cell_type": "markdown",
   "id": "5a600a54-4968-4c09-aa3b-494ab2ceba3d",
   "metadata": {},
   "source": [
    "- 작성 내용\\\n",
    ": 분석에 필요한 데이터의 \"항목, 저장위치, 발생 주기, 수집 방법 및 기간, 속성\"등을 기술\n",
    "\n",
    "<table>\n",
    "  <tr>\n",
    "    <th>데이터명</th>\n",
    "    <th>형태</th>\n",
    "    <th>데이터 소스</th>\n",
    "    <th>발생 주기</th>\n",
    "    <th>수집 방법</th>\n",
    "    <th>수집 기간</th>\n",
    "    <th>수집 가능성</th>\n",
    "    <th>주요 특성</th>\n",
    "  </tr>\n",
    "  <tr>\n",
    "    <td>부동산 가격</td>\n",
    "    <td>연속형</td>\n",
    "    <td>부동산거래실적</td>\n",
    "    <td>거래시</td>\n",
    "    <td>DB보관</td>\n",
    "    <td>20/1/1~20/12/31</td>\n",
    "    <td>o</td>\n",
    "    <td>수동입력data</td>\n",
    "  </tr>\n",
    "  <tr>\n",
    "    <td>강조망권</td>\n",
    "    <td>이산형</td>\n",
    "    <td>부동산 위치 정보</td>\n",
    "    <td>건설시</td>\n",
    "    <td>DB보관</td>\n",
    "    <td>건설시 ~ 20/12/31</td>\n",
    "    <td>o</td>\n",
    "    <td>수동입력data</td>\n",
    "  </tr>\n",
    "</table>\n"
   ]
  },
  {
   "cell_type": "markdown",
   "id": "d07fb726-7a89-41fb-afd0-6acb67baab8c",
   "metadata": {},
   "source": [
    "- 데이터 수집시 고려사항\n",
    "  1. 누락 항목?\n",
    "  2. 누락 항목은 어떻게 추가 수집?\n",
    "  3. 수집이 어려운 정성적 데이터를 정향화 할 수 있는 방법\n",
    "  4. 필요한 정보가 데이터에 모두 포함되어 있는가\n",
    "  5. 데이터의 등기성이 정확?\n",
    "  6. 데이터이 양이 적절?\n",
    "  7. 데이터 수집을 위하여 기술적 또는 인적 자원 요구사항은?"
   ]
  },
  {
   "cell_type": "markdown",
   "id": "acd8aff3-b307-402b-ba43-265530a35af5",
   "metadata": {},
   "source": [
    "### 불균형 데이터\n",
    ": 수집된 데이터에서 한 변수를 구성하는 데이터가 한쪽으로 치우져 있는 경우 의미\\\n",
    "\n",
    "- 데이터 구성 방법\n",
    "  1. 언더 샘플링\\\n",
    "     : 소수 클래스의 데이터를 인위적으로 늘려 데이터 불균형을 해결하는 방법\n",
    "  2. 오버 샘플링\\\n",
    "     : 다수 클래스의 데이터를 줄여 데이터 불균형을 해결하는 방법\n",
    "  3. smote(synthetic minority over-sampling technique)\n",
    "     : 적은 데이터 세트에 있는 개별 데이터들의 k최근접 이웃을 찾아서 이 데이터와 k개 이웃들의 차이를 일정값으로 만들어서 기존 데이터와 약간의 차이가 나는 새로운 데이터들을 생성하는 방식\\\n",
    "     : `pip install imbalanced-learn`"
   ]
  },
  {
   "cell_type": "markdown",
   "id": "0911e313-71c1-47d3-8876-6665f04edaee",
   "metadata": {},
   "source": []
  }
 ],
 "metadata": {
  "kernelspec": {
   "display_name": "Python 3 (ipykernel)",
   "language": "python",
   "name": "python3"
  },
  "language_info": {
   "codemirror_mode": {
    "name": "ipython",
    "version": 3
   },
   "file_extension": ".py",
   "mimetype": "text/x-python",
   "name": "python",
   "nbconvert_exporter": "python",
   "pygments_lexer": "ipython3",
   "version": "3.11.7"
  }
 },
 "nbformat": 4,
 "nbformat_minor": 5
}
